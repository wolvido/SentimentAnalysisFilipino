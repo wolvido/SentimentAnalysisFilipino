{
 "cells": [
  {
   "cell_type": "code",
   "execution_count": 2,
   "source": [
    "import pandas as pd \r\n",
    "from google_trans_new import google_translator\r\n",
    "\r\n",
    "translator = google_translator()  \r\n",
    "translate_text = translator.translate(\"como estas!\", lang_src='es', lang_tgt='en')  \r\n",
    "print(translate_text)"
   ],
   "outputs": [
    {
     "output_type": "stream",
     "name": "stdout",
     "text": [
      "how are you! \n"
     ]
    }
   ],
   "metadata": {}
  },
  {
   "cell_type": "code",
   "execution_count": null,
   "source": [],
   "outputs": [],
   "metadata": {}
  }
 ],
 "metadata": {
  "orig_nbformat": 4,
  "language_info": {
   "name": "python",
   "version": "3.7.11",
   "mimetype": "text/x-python",
   "codemirror_mode": {
    "name": "ipython",
    "version": 3
   },
   "pygments_lexer": "ipython3",
   "nbconvert_exporter": "python",
   "file_extension": ".py"
  },
  "kernelspec": {
   "name": "python3",
   "display_name": "Python 3.7.11 64-bit ('text': conda)"
  },
  "interpreter": {
   "hash": "4029978c8b08abff37abb944c4792689d566d88df4127b8fdf372d0c922e396b"
  }
 },
 "nbformat": 4,
 "nbformat_minor": 2
}