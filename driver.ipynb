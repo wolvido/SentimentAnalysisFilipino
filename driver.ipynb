{
    "cells": [
        {
            "cell_type": "code",
            "execution_count": 2,
            "source": [
                "from fastai.text.all import *"
            ],
            "outputs": [],
            "metadata": {}
        },
        {
            "cell_type": "code",
            "execution_count": 3,
            "source": [
                "import pathlib\r\n",
                "temp = pathlib.PosixPath\r\n",
                "pathlib.PosixPath = pathlib.WindowsPath"
            ],
            "outputs": [],
            "metadata": {}
        },
        {
            "cell_type": "code",
            "execution_count": 10,
            "source": [
                "import pandas as pd \r\n",
                "from google_trans_new import google_translator\r\n",
                "\r\n",
                "def translateToEnglish(word):\r\n",
                "    translator = google_translator() \r\n",
                "    translate_text = translator.translate(word, lang_tgt='en') \r\n",
                "    return translate_text"
            ],
            "outputs": [],
            "metadata": {}
        },
        {
            "cell_type": "code",
            "execution_count": 5,
            "source": [
                "sentiment = load_learner('sentiment')"
            ],
            "outputs": [],
            "metadata": {}
        },
        {
            "cell_type": "code",
            "execution_count": 12,
            "source": [
                "word = translateToEnglish(\"pwede na itong ipalabas\")\r\n",
                "print(word)"
            ],
            "outputs": [
                {
                    "output_type": "stream",
                    "name": "stdout",
                    "text": [
                        "This can be released \n"
                    ]
                }
            ],
            "metadata": {}
        },
        {
            "cell_type": "code",
            "execution_count": 13,
            "source": [
                "\r\n",
                "\r\n",
                "sentiment.predict(word)"
            ],
            "outputs": [
                {
                    "output_type": "display_data",
                    "data": {
                        "text/html": [],
                        "text/plain": [
                            "<IPython.core.display.HTML object>"
                        ]
                    },
                    "metadata": {}
                },
                {
                    "output_type": "execute_result",
                    "data": {
                        "text/plain": [
                            "('pos', tensor(1), tensor([0.0830, 0.9170]))"
                        ]
                    },
                    "metadata": {},
                    "execution_count": 13
                }
            ],
            "metadata": {}
        }
    ],
    "metadata": {
        "orig_nbformat": 4,
        "language_info": {
            "name": "python",
            "version": "3.7.11",
            "mimetype": "text/x-python",
            "codemirror_mode": {
                "name": "ipython",
                "version": 3
            },
            "pygments_lexer": "ipython3",
            "nbconvert_exporter": "python",
            "file_extension": ".py"
        },
        "kernelspec": {
            "name": "python3",
            "display_name": "Python 3.7.11 64-bit ('text': conda)"
        },
        "interpreter": {
            "hash": "4029978c8b08abff37abb944c4792689d566d88df4127b8fdf372d0c922e396b"
        }
    },
    "nbformat": 4,
    "nbformat_minor": 2
}